{
 "cells": [
  {
   "cell_type": "code",
   "execution_count": 2,
   "metadata": {
    "collapsed": true
   },
   "outputs": [],
   "source": [
    "import pandas as pd\n",
    "import numpy as np\n",
    "from matplotlib import pyplot as plt\n",
    "import urllib\n",
    "import visualise as v\n",
    "import functions as f\n",
    "import algorythm as alg\n",
    "import math\n",
    "from sklearn.cluster import KMeans\n",
    "import tensorflow as tf\n",
    "from tensorflow import keras\n",
    "from tensorflow.keras import layers"
   ]
  },
  {
   "cell_type": "code",
   "execution_count": 252,
   "outputs": [],
   "source": [
    "df = pd.read_csv(r'./dataset/generated.csv', header=0, sep=',')\n",
    "del df[df.columns[0]]"
   ],
   "metadata": {
    "collapsed": false,
    "pycharm": {
     "name": "#%%\n"
    }
   }
  },
  {
   "cell_type": "code",
   "execution_count": 253,
   "outputs": [],
   "source": [
    "x = df[:100000]\n",
    "x_val = df[100000:120000]"
   ],
   "metadata": {
    "collapsed": false,
    "pycharm": {
     "name": "#%%\n"
    }
   }
  },
  {
   "cell_type": "code",
   "execution_count": 254,
   "outputs": [
    {
     "name": "stdout",
     "output_type": "stream",
     "text": [
      "new\n",
      "new\n"
     ]
    }
   ],
   "source": [
    "x_train,y_train = f.create_data(x, 4)\n",
    "x_val, y_val = f.create_data(x_val, 4)"
   ],
   "metadata": {
    "collapsed": false,
    "pycharm": {
     "name": "#%%\n"
    }
   }
  },
  {
   "cell_type": "code",
   "execution_count": 255,
   "outputs": [],
   "source": [
    "inputs = keras.Input(shape=(4,))"
   ],
   "metadata": {
    "collapsed": false,
    "pycharm": {
     "name": "#%%\n"
    }
   }
  },
  {
   "cell_type": "code",
   "execution_count": 256,
   "outputs": [],
   "source": [
    "dense_1 = layers.Dense(16)(inputs)"
   ],
   "metadata": {
    "collapsed": false,
    "pycharm": {
     "name": "#%%\n"
    }
   }
  },
  {
   "cell_type": "code",
   "execution_count": 257,
   "outputs": [],
   "source": [
    "LR = tf.keras.activations.tanh(dense_1)"
   ],
   "metadata": {
    "collapsed": false,
    "pycharm": {
     "name": "#%%\n"
    }
   }
  },
  {
   "cell_type": "code",
   "execution_count": 258,
   "outputs": [],
   "source": [
    "outputs = layers.Dense(1, activation = \"sigmoid\")(LR)"
   ],
   "metadata": {
    "collapsed": false,
    "pycharm": {
     "name": "#%%\n"
    }
   }
  },
  {
   "cell_type": "code",
   "execution_count": 259,
   "outputs": [],
   "source": [
    "model = keras.Model(inputs=inputs, outputs=outputs, name=\"thermal-model\")"
   ],
   "metadata": {
    "collapsed": false,
    "pycharm": {
     "name": "#%%\n"
    }
   }
  },
  {
   "cell_type": "code",
   "execution_count": 260,
   "outputs": [
    {
     "name": "stdout",
     "output_type": "stream",
     "text": [
      "Model: \"thermal-model\"\n",
      "_________________________________________________________________\n",
      " Layer (type)                Output Shape              Param #   \n",
      "=================================================================\n",
      " input_25 (InputLayer)       [(None, 4)]               0         \n",
      "                                                                 \n",
      " dense_48 (Dense)            (None, 16)                80        \n",
      "                                                                 \n",
      " tf.math.tanh_2 (TFOpLambda)  (None, 16)               0         \n",
      "                                                                 \n",
      " dense_49 (Dense)            (None, 1)                 17        \n",
      "                                                                 \n",
      "=================================================================\n",
      "Total params: 97\n",
      "Trainable params: 97\n",
      "Non-trainable params: 0\n",
      "_________________________________________________________________\n"
     ]
    }
   ],
   "source": [
    "model.summary()"
   ],
   "metadata": {
    "collapsed": false,
    "pycharm": {
     "name": "#%%\n"
    }
   }
  },
  {
   "cell_type": "code",
   "execution_count": 261,
   "outputs": [],
   "source": [
    "model.compile(loss = \"binary_crossentropy\", optimizer = 'RMSprop', metrics = 'accuracy')"
   ],
   "metadata": {
    "collapsed": false,
    "pycharm": {
     "name": "#%%\n"
    }
   }
  },
  {
   "cell_type": "code",
   "execution_count": 262,
   "outputs": [],
   "source": [
    "\n",
    "model.save_weights('initial')"
   ],
   "metadata": {
    "collapsed": false,
    "pycharm": {
     "name": "#%%\n"
    }
   }
  },
  {
   "cell_type": "code",
   "execution_count": 263,
   "outputs": [
    {
     "name": "stdout",
     "output_type": "stream",
     "text": [
      "3125/3125 [==============================] - 5s 2ms/step - loss: 0.5172 - accuracy: 0.7844 - val_loss: 0.5046 - val_accuracy: 0.7969\n"
     ]
    },
    {
     "data": {
      "text/plain": "<keras.callbacks.History at 0x1e488eeebe0>"
     },
     "execution_count": 263,
     "metadata": {},
     "output_type": "execute_result"
    }
   ],
   "source": [
    "model.load_weights('initial')\n",
    "model.fit(x = x_train, y = y_train, verbose = 1, validation_data = (x_val, y_val))"
   ],
   "metadata": {
    "collapsed": false,
    "pycharm": {
     "name": "#%%\n"
    }
   }
  },
  {
   "cell_type": "markdown",
   "source": [],
   "metadata": {
    "collapsed": false,
    "pycharm": {
     "name": "#%% md\n"
    }
   }
  },
  {
   "cell_type": "code",
   "execution_count": 264,
   "outputs": [
    {
     "data": {
      "text/plain": "array([[0.20481405],\n       [0.20481405],\n       [0.20481405],\n       ...,\n       [0.20481405],\n       [0.20481405],\n       [0.20481405]], dtype=float32)"
     },
     "execution_count": 264,
     "metadata": {},
     "output_type": "execute_result"
    }
   ],
   "source": [
    "prediction = model.predict(x_val)\n",
    "prediction"
   ],
   "metadata": {
    "collapsed": false,
    "pycharm": {
     "name": "#%%\n"
    }
   }
  },
  {
   "cell_type": "markdown",
   "source": [],
   "metadata": {
    "collapsed": false,
    "pycharm": {
     "name": "#%% md\n"
    }
   }
  },
  {
   "cell_type": "code",
   "execution_count": 246,
   "outputs": [
    {
     "data": {
      "text/plain": "                 x  y      pred\n0      2534.869561  0  0.211861\n1      2529.272505  0  0.211861\n2      2461.308097  0  0.211861\n3      2515.320278  0  0.211861\n4      2523.187687  0  0.211861\n...            ... ..       ...\n19944  2661.524665  1  0.211861\n19945  2629.486781  1  0.211861\n19946  2592.551586  0  0.211861\n19947  2625.229948  0  0.211861\n19948  2590.093987  0  0.211861\n\n[19949 rows x 3 columns]",
      "text/html": "<div>\n<style scoped>\n    .dataframe tbody tr th:only-of-type {\n        vertical-align: middle;\n    }\n\n    .dataframe tbody tr th {\n        vertical-align: top;\n    }\n\n    .dataframe thead th {\n        text-align: right;\n    }\n</style>\n<table border=\"1\" class=\"dataframe\">\n  <thead>\n    <tr style=\"text-align: right;\">\n      <th></th>\n      <th>x</th>\n      <th>y</th>\n      <th>pred</th>\n    </tr>\n  </thead>\n  <tbody>\n    <tr>\n      <th>0</th>\n      <td>2534.869561</td>\n      <td>0</td>\n      <td>0.211861</td>\n    </tr>\n    <tr>\n      <th>1</th>\n      <td>2529.272505</td>\n      <td>0</td>\n      <td>0.211861</td>\n    </tr>\n    <tr>\n      <th>2</th>\n      <td>2461.308097</td>\n      <td>0</td>\n      <td>0.211861</td>\n    </tr>\n    <tr>\n      <th>3</th>\n      <td>2515.320278</td>\n      <td>0</td>\n      <td>0.211861</td>\n    </tr>\n    <tr>\n      <th>4</th>\n      <td>2523.187687</td>\n      <td>0</td>\n      <td>0.211861</td>\n    </tr>\n    <tr>\n      <th>...</th>\n      <td>...</td>\n      <td>...</td>\n      <td>...</td>\n    </tr>\n    <tr>\n      <th>19944</th>\n      <td>2661.524665</td>\n      <td>1</td>\n      <td>0.211861</td>\n    </tr>\n    <tr>\n      <th>19945</th>\n      <td>2629.486781</td>\n      <td>1</td>\n      <td>0.211861</td>\n    </tr>\n    <tr>\n      <th>19946</th>\n      <td>2592.551586</td>\n      <td>0</td>\n      <td>0.211861</td>\n    </tr>\n    <tr>\n      <th>19947</th>\n      <td>2625.229948</td>\n      <td>0</td>\n      <td>0.211861</td>\n    </tr>\n    <tr>\n      <th>19948</th>\n      <td>2590.093987</td>\n      <td>0</td>\n      <td>0.211861</td>\n    </tr>\n  </tbody>\n</table>\n<p>19949 rows × 3 columns</p>\n</div>"
     },
     "execution_count": 246,
     "metadata": {},
     "output_type": "execute_result"
    }
   ],
   "source": [
    "test = pd.DataFrame({'x': x_val[:,0], 'y' : y_val, 'pred': prediction[:,0]})\n",
    "test"
   ],
   "metadata": {
    "collapsed": false,
    "pycharm": {
     "name": "#%%\n"
    }
   }
  },
  {
   "cell_type": "code",
   "execution_count": 247,
   "outputs": [
    {
     "data": {
      "text/plain": "<matplotlib.collections.PathCollection at 0x1e489d67f10>"
     },
     "execution_count": 247,
     "metadata": {},
     "output_type": "execute_result"
    },
    {
     "data": {
      "text/plain": "<Figure size 720x360 with 1 Axes>",
      "image/png": "[encoded data removed]"
     },
     "metadata": {
      "needs_background": "light"
     },
     "output_type": "display_data"
    }
   ],
   "source": [
    "fig = plt.figure(figsize=(10, 5))\n",
    "plot = fig.add_subplot(111)\n",
    "plot.scatter(x_val[:,0], prediction[:,0], c= y_val, alpha=0.7, cmap=\"magma\")"
   ],
   "metadata": {
    "collapsed": false,
    "pycharm": {
     "name": "#%%\n"
    }
   }
  },
  {
   "cell_type": "code",
   "execution_count": 265,
   "outputs": [
    {
     "data": {
      "text/plain": "[<tf.Variable 'dense_48/kernel:0' shape=(4, 16) dtype=float32, numpy=\n array([[-0.3441342 ,  0.0482555 , -0.25196704, -0.5126826 , -0.38139662,\n          0.5440624 , -0.2718962 ,  0.3301667 ,  0.07953967, -0.21209508,\n         -0.36698645,  0.5269617 ,  0.0055061 , -0.33236253, -0.1426963 ,\n          0.48063362],\n        [-0.0968734 ,  0.15027708,  0.26248437,  0.4957646 , -0.06503311,\n          0.4785912 , -0.2863351 , -0.52659917,  0.43255728, -0.10256597,\n         -0.14931658, -0.31844443,  0.19554394, -0.13896349,  0.02640763,\n         -0.36208642],\n        [ 0.49502003, -0.52378124, -0.30504277,  0.4810629 ,  0.06294268,\n          0.29766566, -0.24195126,  0.05264741, -0.18446864,  0.14486396,\n          0.19141114,  0.03631723,  0.32827097,  0.03937626, -0.15148513,\n         -0.02003837],\n        [-0.4010692 ,  0.04242128, -0.30776554, -0.37117633,  0.44389004,\n          0.04384452, -0.13312754,  0.03174734, -0.35223788, -0.25043225,\n         -0.41404617, -0.51061517,  0.45217818,  0.03554636,  0.23952813,\n         -0.26613626]], dtype=float32)>,\n <tf.Variable 'dense_48/bias:0' shape=(16,) dtype=float32, numpy=\n array([ 0.        ,  0.        ,  0.        ,  0.        ,  0.        ,\n         0.        ,  0.        ,  0.        , -0.01191758,  0.        ,\n         0.        ,  0.        ,  0.        ,  0.        , -0.00318343,\n         0.        ], dtype=float32)>,\n <tf.Variable 'dense_49/kernel:0' shape=(16, 1) dtype=float32, numpy=\n array([[-0.27486458],\n        [-0.1243407 ],\n        [-0.06064057],\n        [ 0.09811386],\n        [-0.12950954],\n        [-0.43695167],\n        [-0.00176578],\n        [ 0.46215466],\n        [ 0.49107718],\n        [ 0.15117031],\n        [-0.00842443],\n        [-0.38818106],\n        [-0.45045975],\n        [-0.18236712],\n        [ 0.5969265 ],\n        [-0.35239598]], dtype=float32)>,\n <tf.Variable 'dense_49/bias:0' shape=(1,) dtype=float32, numpy=array([-0.129318], dtype=float32)>]"
     },
     "execution_count": 265,
     "metadata": {},
     "output_type": "execute_result"
    }
   ],
   "source": [
    "model.weights"
   ],
   "metadata": {
    "collapsed": false,
    "pycharm": {
     "name": "#%%\n"
    }
   }
  },
  {
   "cell_type": "code",
   "execution_count": null,
   "outputs": [],
   "source": [],
   "metadata": {
    "collapsed": false,
    "pycharm": {
     "name": "#%%\n"
    }
   }
  }
 ],
 "metadata": {
  "kernelspec": {
   "display_name": "Python 3",
   "language": "python",
   "name": "python3"
  },
  "language_info": {
   "codemirror_mode": {
    "name": "ipython",
    "version": 2
   },
   "file_extension": ".py",
   "mimetype": "text/x-python",
   "name": "python",
   "nbconvert_exporter": "python",
   "pygments_lexer": "ipython2",
   "version": "2.7.6"
  }
 },
 "nbformat": 4,
 "nbformat_minor": 0
}