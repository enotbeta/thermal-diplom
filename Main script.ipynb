{
 "cells": [
  {
   "cell_type": "markdown",
   "source": [
    "#### Lib Import"
   ],
   "metadata": {
    "collapsed": false
   }
  },
  {
   "cell_type": "code",
   "execution_count": 1,
   "outputs": [],
   "source": [
    "import pandas as pd\n",
    "import numpy as np\n",
    "from matplotlib import pyplot as plt\n",
    "import urllib"
   ],
   "metadata": {
    "collapsed": false,
    "pycharm": {
     "name": "#%%\n"
    }
   }
  },
  {
   "cell_type": "markdown",
   "source": [
    "#### Data Import"
   ],
   "metadata": {
    "collapsed": false
   }
  },
  {
   "cell_type": "code",
   "execution_count": 2,
   "outputs": [],
   "source": [
    "url_data = \"https://pastebin.com/raw/jLAvBJbq\"\n",
    "resp = urllib.request.urlopen(url_data)\n",
    "data = resp.read().decode(\"utf8\")"
   ],
   "metadata": {
    "collapsed": false,
    "pycharm": {
     "name": "#%%\n"
    }
   }
  },
  {
   "cell_type": "markdown",
   "source": [
    "#### Data Basic Manipulations"
   ],
   "metadata": {
    "collapsed": false
   }
  },
  {
   "cell_type": "code",
   "execution_count": 3,
   "outputs": [],
   "source": [
    "data_list = data.split(\"\\r\")\n",
    "data_list = list(map(lambda x: x[2:], data_list))\n",
    "data_list = data_list[1:-1]\n",
    "data_list = list(map(lambda x: x.split(' '), data_list))"
   ],
   "metadata": {
    "collapsed": false,
    "pycharm": {
     "name": "#%%\n"
    }
   }
  },
  {
   "cell_type": "markdown",
   "source": [
    "#### Creation of Main DataFrame"
   ],
   "metadata": {
    "collapsed": false
   }
  },
  {
   "cell_type": "code",
   "execution_count": 4,
   "outputs": [],
   "source": [
    "id = np.array(list(map(lambda x: x[2], data_list)))\n",
    "dist = np.array(list(map(lambda x: x[5], data_list)))\n",
    "t = np.array(list(map(lambda x: x[8], data_list)))\n",
    "ts = np.array(list(map(lambda x: x[11], data_list)))\n",
    "x = np.array(list(map(lambda x: x[14], data_list)))\n",
    "y = np.array(list(map(lambda x: x[17], data_list)))\n",
    "w = np.array(list(map(lambda x: x[20], data_list)))\n",
    "h = np.array(list(map(lambda x: x[23], data_list)))\n",
    "strange_thing = np.array(list(map(lambda  x: x[24], data_list)))\n",
    "x_ir = np.array(list(map(lambda x: x[27], data_list)))\n",
    "y_ir = np.array(list(map(lambda x: x[30], data_list)))\n",
    "w_ir = np.array(list(map(lambda x: x[33], data_list)))\n",
    "h_ir = np.array(list(map(lambda x: x[36], data_list)))"
   ],
   "metadata": {
    "collapsed": false,
    "pycharm": {
     "name": "#%%\n"
    }
   }
  },
  {
   "cell_type": "code",
   "execution_count": 5,
   "outputs": [],
   "source": [
    "df = pd.DataFrame({\"id\": id, \"dist\" : dist, \"t\" : t, \"ts\" : ts, \"x\" : x, \"y\" : y, \"w\" : w, \"h\" : h, \"strange_thing\" : strange_thing, \"x_ir\" : x_ir, \"y_ir\" : y_ir, \"w_ir\" : w_ir, \"h_ir\" : h_ir})"
   ],
   "metadata": {
    "collapsed": false,
    "pycharm": {
     "name": "#%%\n"
    }
   }
  },
  {
   "cell_type": "code",
   "execution_count": 6,
   "outputs": [],
   "source": [
    "class Event():\n",
    "    def __init__(self, id, dataframe):\n",
    "        self.df = dataframe.loc[dataframe[\"id\"] == id]\n",
    "    def plot(self, key):\n",
    "\n"
   ],
   "metadata": {
    "collapsed": false,
    "pycharm": {
     "name": "#%%\n"
    }
   }
  },
  {
   "cell_type": "code",
   "execution_count": 33,
   "outputs": [],
   "source": [
    "class Model():\n",
    "    def __init__(self, df):\n",
    "        self.events = []\n",
    "        for id_name in df[\"id\"].unique():\n",
    "            self.events.append(Event(id_name, df))\n",
    "    def show(self, index):\n",
    "        return self.events[index].df\n"
   ],
   "metadata": {
    "collapsed": false,
    "pycharm": {
     "name": "#%%\n"
    }
   }
  },
  {
   "cell_type": "code",
   "execution_count": 42,
   "outputs": [],
   "source": [
    "model = Model(df)\n",
    "event = model.events[1]"
   ],
   "metadata": {
    "collapsed": false,
    "pycharm": {
     "name": "#%%\n"
    }
   }
  },
  {
   "cell_type": "markdown",
   "source": [],
   "metadata": {
    "collapsed": false,
    "pycharm": {
     "name": "#%% md\n"
    }
   }
  }
 ],
 "metadata": {
  "kernelspec": {
   "display_name": "Python 3",
   "language": "python",
   "name": "python3"
  },
  "language_info": {
   "codemirror_mode": {
    "name": "ipython",
    "version": 2
   },
   "file_extension": ".py",
   "mimetype": "text/x-python",
   "name": "python",
   "nbconvert_exporter": "python",
   "pygments_lexer": "ipython2",
   "version": "2.7.6"
  }
 },
 "nbformat": 4,
 "nbformat_minor": 0
}