{
 "cells": [
  {
   "cell_type": "markdown",
   "source": [
    "#### Lib Import"
   ],
   "metadata": {
    "collapsed": false
   }
  },
  {
   "cell_type": "code",
   "execution_count": 1,
   "outputs": [],
   "source": [
    "import pandas as pd\n",
    "import numpy as np\n",
    "from matplotlib import pyplot as plt\n",
    "import urllib"
   ],
   "metadata": {
    "collapsed": false,
    "pycharm": {
     "name": "#%%\n"
    }
   }
  },
  {
   "cell_type": "markdown",
   "source": [
    "#### Data Import"
   ],
   "metadata": {
    "collapsed": false
   }
  },
  {
   "cell_type": "code",
   "execution_count": 2,
   "outputs": [],
   "source": [
    "url_data = \"https://pastebin.com/raw/jLAvBJbq\"\n",
    "resp = urllib.request.urlopen(url_data)\n",
    "data = resp.read().decode(\"utf8\")"
   ],
   "metadata": {
    "collapsed": false,
    "pycharm": {
     "name": "#%%\n"
    }
   }
  },
  {
   "cell_type": "markdown",
   "source": [
    "#### Data Basic Manipulations"
   ],
   "metadata": {
    "collapsed": false
   }
  },
  {
   "cell_type": "code",
   "execution_count": 3,
   "outputs": [],
   "source": [
    "data_list = data.split(\"\\r\")\n",
    "data_list = list(map(lambda x: x[2:], data_list))\n",
    "data_list = data_list[1:-1]\n",
    "data_list = list(map(lambda x: x.split(' '), data_list))"
   ],
   "metadata": {
    "collapsed": false,
    "pycharm": {
     "name": "#%%\n"
    }
   }
  },
  {
   "cell_type": "markdown",
   "source": [
    "#### Creation of Main DataFrame"
   ],
   "metadata": {
    "collapsed": false
   }
  },
  {
   "cell_type": "code",
   "execution_count": 4,
   "outputs": [],
   "source": [
    "id = np.array(list(map(lambda x: x[2], data_list)))\n",
    "dist = np.array(list(map(lambda x: x[5], data_list)))\n",
    "t = np.array(list(map(lambda x: x[8], data_list)))\n",
    "ts = np.array(list(map(lambda x: x[11], data_list)))\n",
    "x = np.array(list(map(lambda x: x[14], data_list)))\n",
    "y = np.array(list(map(lambda x: x[17], data_list)))\n",
    "w = np.array(list(map(lambda x: x[20], data_list)))\n",
    "h = np.array(list(map(lambda x: x[23], data_list)))\n",
    "strange_thing = np.array(list(map(lambda  x: x[24], data_list)))\n",
    "x_ir = np.array(list(map(lambda x: x[27], data_list)))\n",
    "y_ir = np.array(list(map(lambda x: x[30], data_list)))\n",
    "w_ir = np.array(list(map(lambda x: x[33], data_list)))\n",
    "h_ir = np.array(list(map(lambda x: x[36], data_list)))"
   ],
   "metadata": {
    "collapsed": false,
    "pycharm": {
     "name": "#%%\n"
    }
   }
  },
  {
   "cell_type": "code",
   "execution_count": 5,
   "outputs": [],
   "source": [
    "df = pd.DataFrame({\"id\": id, \"dist\" : dist, \"t\" : t, \"ts\" : ts, \"x\" : x, \"y\" : y, \"w\" : w, \"h\" : h, \"strange_thing\" : strange_thing, \"x_ir\" : x_ir, \"y_ir\" : y_ir, \"w_ir\" : w_ir, \"h_ir\" : h_ir})"
   ],
   "metadata": {
    "collapsed": false,
    "pycharm": {
     "name": "#%%\n"
    }
   }
  },
  {
   "cell_type": "code",
   "execution_count": 7,
   "outputs": [
    {
     "data": {
      "text/plain": "    id     dist     t             ts         x         y          w  \\\n0    1  202.222  5029  1622740358496  0.666667  0.744444   0.046875   \n1    1  216.667  5677  1622740358698  0.623958  0.755556    0.04375   \n2    1  216.667  4997  1622740358815       0.6  0.746296    0.04375   \n3    1  197.826  4997  1622740358896  0.583333  0.740741  0.0479167   \n4    1  193.617  4978  1622740359001  0.563542  0.724074  0.0489584   \n..  ..      ...   ...            ...       ...       ...        ...   \n495  4  284.375  4860  1622740431173  0.714583  0.683333  0.0333334   \n496  4  284.375  5722  1622740431173  0.714583  0.683333  0.0333334   \n497  4  284.375  5799  1622740431173  0.714583  0.683333  0.0333334   \n498  4  284.375     0  1622740431173  0.714583  0.683333  0.0333334   \n499  4  284.375     0  1622740431173  0.714583  0.683333  0.0333334   \n\n             h  strange_thing      x_ir      y_ir       w_ir      h_ir  \n0     0.127778  1622740358445    0.8125   0.71875  0.0989583  0.201389  \n1     0.116667  1622740358645  0.729167  0.729167  0.0911458  0.180556  \n2     0.114815  1622740358645  0.729167  0.729167  0.0911458  0.180556  \n3     0.122222  1622740358844  0.648438  0.715278  0.0911458  0.180556  \n4      0.12037  1622740358844  0.648438  0.715278  0.0911458  0.180556  \n..         ...            ...       ...       ...        ...       ...  \n495  0.0814815  1622740430979  0.828125  0.611111  0.0703125  0.135417  \n496  0.0814815  1622740431179  0.888021     0.625  0.0677083     0.125  \n497  0.0814815  1622740431378  0.888021     0.625  0.0677083     0.125  \n498  0.0814815  1622740431378  0.888021     0.625  0.0677083     0.125  \n499  0.0814815  1622740431578  0.888021     0.625  0.0677083     0.125  \n\n[500 rows x 13 columns]",
      "text/html": "<div>\n<style scoped>\n    .dataframe tbody tr th:only-of-type {\n        vertical-align: middle;\n    }\n\n    .dataframe tbody tr th {\n        vertical-align: top;\n    }\n\n    .dataframe thead th {\n        text-align: right;\n    }\n</style>\n<table border=\"1\" class=\"dataframe\">\n  <thead>\n    <tr style=\"text-align: right;\">\n      <th></th>\n      <th>id</th>\n      <th>dist</th>\n      <th>t</th>\n      <th>ts</th>\n      <th>x</th>\n      <th>y</th>\n      <th>w</th>\n      <th>h</th>\n      <th>strange_thing</th>\n      <th>x_ir</th>\n      <th>y_ir</th>\n      <th>w_ir</th>\n      <th>h_ir</th>\n    </tr>\n  </thead>\n  <tbody>\n    <tr>\n      <th>0</th>\n      <td>1</td>\n      <td>202.222</td>\n      <td>5029</td>\n      <td>1622740358496</td>\n      <td>0.666667</td>\n      <td>0.744444</td>\n      <td>0.046875</td>\n      <td>0.127778</td>\n      <td>1622740358445</td>\n      <td>0.8125</td>\n      <td>0.71875</td>\n      <td>0.0989583</td>\n      <td>0.201389</td>\n    </tr>\n    <tr>\n      <th>1</th>\n      <td>1</td>\n      <td>216.667</td>\n      <td>5677</td>\n      <td>1622740358698</td>\n      <td>0.623958</td>\n      <td>0.755556</td>\n      <td>0.04375</td>\n      <td>0.116667</td>\n      <td>1622740358645</td>\n      <td>0.729167</td>\n      <td>0.729167</td>\n      <td>0.0911458</td>\n      <td>0.180556</td>\n    </tr>\n    <tr>\n      <th>2</th>\n      <td>1</td>\n      <td>216.667</td>\n      <td>4997</td>\n      <td>1622740358815</td>\n      <td>0.6</td>\n      <td>0.746296</td>\n      <td>0.04375</td>\n      <td>0.114815</td>\n      <td>1622740358645</td>\n      <td>0.729167</td>\n      <td>0.729167</td>\n      <td>0.0911458</td>\n      <td>0.180556</td>\n    </tr>\n    <tr>\n      <th>3</th>\n      <td>1</td>\n      <td>197.826</td>\n      <td>4997</td>\n      <td>1622740358896</td>\n      <td>0.583333</td>\n      <td>0.740741</td>\n      <td>0.0479167</td>\n      <td>0.122222</td>\n      <td>1622740358844</td>\n      <td>0.648438</td>\n      <td>0.715278</td>\n      <td>0.0911458</td>\n      <td>0.180556</td>\n    </tr>\n    <tr>\n      <th>4</th>\n      <td>1</td>\n      <td>193.617</td>\n      <td>4978</td>\n      <td>1622740359001</td>\n      <td>0.563542</td>\n      <td>0.724074</td>\n      <td>0.0489584</td>\n      <td>0.12037</td>\n      <td>1622740358844</td>\n      <td>0.648438</td>\n      <td>0.715278</td>\n      <td>0.0911458</td>\n      <td>0.180556</td>\n    </tr>\n    <tr>\n      <th>...</th>\n      <td>...</td>\n      <td>...</td>\n      <td>...</td>\n      <td>...</td>\n      <td>...</td>\n      <td>...</td>\n      <td>...</td>\n      <td>...</td>\n      <td>...</td>\n      <td>...</td>\n      <td>...</td>\n      <td>...</td>\n      <td>...</td>\n    </tr>\n    <tr>\n      <th>495</th>\n      <td>4</td>\n      <td>284.375</td>\n      <td>4860</td>\n      <td>1622740431173</td>\n      <td>0.714583</td>\n      <td>0.683333</td>\n      <td>0.0333334</td>\n      <td>0.0814815</td>\n      <td>1622740430979</td>\n      <td>0.828125</td>\n      <td>0.611111</td>\n      <td>0.0703125</td>\n      <td>0.135417</td>\n    </tr>\n    <tr>\n      <th>496</th>\n      <td>4</td>\n      <td>284.375</td>\n      <td>5722</td>\n      <td>1622740431173</td>\n      <td>0.714583</td>\n      <td>0.683333</td>\n      <td>0.0333334</td>\n      <td>0.0814815</td>\n      <td>1622740431179</td>\n      <td>0.888021</td>\n      <td>0.625</td>\n      <td>0.0677083</td>\n      <td>0.125</td>\n    </tr>\n    <tr>\n      <th>497</th>\n      <td>4</td>\n      <td>284.375</td>\n      <td>5799</td>\n      <td>1622740431173</td>\n      <td>0.714583</td>\n      <td>0.683333</td>\n      <td>0.0333334</td>\n      <td>0.0814815</td>\n      <td>1622740431378</td>\n      <td>0.888021</td>\n      <td>0.625</td>\n      <td>0.0677083</td>\n      <td>0.125</td>\n    </tr>\n    <tr>\n      <th>498</th>\n      <td>4</td>\n      <td>284.375</td>\n      <td>0</td>\n      <td>1622740431173</td>\n      <td>0.714583</td>\n      <td>0.683333</td>\n      <td>0.0333334</td>\n      <td>0.0814815</td>\n      <td>1622740431378</td>\n      <td>0.888021</td>\n      <td>0.625</td>\n      <td>0.0677083</td>\n      <td>0.125</td>\n    </tr>\n    <tr>\n      <th>499</th>\n      <td>4</td>\n      <td>284.375</td>\n      <td>0</td>\n      <td>1622740431173</td>\n      <td>0.714583</td>\n      <td>0.683333</td>\n      <td>0.0333334</td>\n      <td>0.0814815</td>\n      <td>1622740431578</td>\n      <td>0.888021</td>\n      <td>0.625</td>\n      <td>0.0677083</td>\n      <td>0.125</td>\n    </tr>\n  </tbody>\n</table>\n<p>500 rows × 13 columns</p>\n</div>"
     },
     "execution_count": 7,
     "metadata": {},
     "output_type": "execute_result"
    }
   ],
   "source": [
    "df"
   ],
   "metadata": {
    "collapsed": false,
    "pycharm": {
     "name": "#%%\n"
    }
   }
  },
  {
   "cell_type": "markdown",
   "source": [
    "1. Что такое ts? Это какое-то значение времени?\n",
    "2. t - кажется, температура, но не понятно, в какой шкале это выражается."
   ],
   "metadata": {
    "collapsed": false
   }
  },
  {
   "cell_type": "code",
   "execution_count": 6,
   "outputs": [],
   "source": [],
   "metadata": {
    "collapsed": false,
    "pycharm": {
     "name": "#%%\n"
    }
   }
  }
 ],
 "metadata": {
  "kernelspec": {
   "display_name": "Python 3",
   "language": "python",
   "name": "python3"
  },
  "language_info": {
   "codemirror_mode": {
    "name": "ipython",
    "version": 2
   },
   "file_extension": ".py",
   "mimetype": "text/x-python",
   "name": "python",
   "nbconvert_exporter": "python",
   "pygments_lexer": "ipython2",
   "version": "2.7.6"
  }
 },
 "nbformat": 4,
 "nbformat_minor": 0
}