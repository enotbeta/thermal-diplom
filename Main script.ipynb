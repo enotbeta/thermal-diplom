{
 "cells": [
  {
   "cell_type": "markdown",
   "source": [
    "#### Lib Import"
   ],
   "metadata": {
    "collapsed": false
   }
  },
  {
   "cell_type": "code",
   "execution_count": 104,
   "outputs": [],
   "source": [
    "import pandas as pd\n",
    "import numpy as np\n",
    "from matplotlib import pyplot as plt\n",
    "import urllib\n",
    "import functions as f"
   ],
   "metadata": {
    "collapsed": false,
    "pycharm": {
     "name": "#%%\n"
    }
   }
  },
  {
   "cell_type": "code",
   "execution_count": 105,
   "outputs": [],
   "source": [
    "url = \"https://pastebin.com/raw/j30qh61S\"\n",
    "#resp = urllib.request.urlopen(url_data)\n",
    "data1 = pd.read_csv(r'./dataset/Sochi10-11.csv', header=0, sep =',')\n",
    "\n",
    "data1 = data1.loc[data1['temperatureAvg'] > 1]\n",
    "data1 = data1.loc[data1['id'] >= 1]\n"
   ],
   "metadata": {
    "collapsed": false,
    "pycharm": {
     "name": "#%%\n"
    }
   }
  },
  {
   "cell_type": "code",
   "execution_count": 106,
   "outputs": [],
   "source": [
    "tsmax = data1['ts_ir'].max()\n",
    "tsmin = data1['ts_ir'].min()\n",
    "diff_ts = tsmax - tsmin\n",
    "target_time = diff_ts / 60 * 54.3 + tsmin"
   ],
   "metadata": {
    "collapsed": false,
    "pycharm": {
     "name": "#%%\n"
    }
   }
  },
  {
   "cell_type": "code",
   "execution_count": 114,
   "outputs": [],
   "source": [
    "query =  data1.loc[((target_time - 8000) <= data1['ts_ir']) & (data1['ts_ir']  <= (target_time + 8000))]\n"
   ],
   "metadata": {
    "collapsed": false,
    "pycharm": {
     "name": "#%%\n"
    }
   }
  },
  {
   "cell_type": "code",
   "execution_count": 115,
   "outputs": [],
   "source": [
    "unique = data1['id'].unique()\n",
    "indexes_good = []\n",
    "for id in unique:\n",
    "    if data1.loc[data1['id'] == id]['temperatureAvg'].mean() > 2500:\n",
    "        indexes_good += [id]\n",
    "loc_query = data1['id'].apply(lambda x: x in indexes_good)\n",
    "data1 = data1.loc[loc_query]\n"
   ],
   "metadata": {
    "collapsed": false,
    "pycharm": {
     "name": "#%%\n"
    }
   }
  },
  {
   "cell_type": "code",
   "execution_count": 116,
   "outputs": [],
   "source": [
    "full_set_avg = f.mean_list(data1)\n",
    "target_set_avg = f.mean_list(query)\n"
   ],
   "metadata": {
    "collapsed": false,
    "pycharm": {
     "name": "#%%\n"
    }
   }
  },
  {
   "cell_type": "code",
   "execution_count": 117,
   "outputs": [
    {
     "data": {
      "text/plain": "<Figure size 432x288 with 1 Axes>",
      "image/png": "[encoded data removed]"
     },
     "metadata": {
      "needs_background": "light"
     },
     "output_type": "display_data"
    }
   ],
   "source": [
    "plt.scatter(data1['id'].unique(),full_set_avg, color = 'blue')\n",
    "plt.scatter(query['id'].unique(),target_set_avg, color = 'red')\n",
    "plt.show()"
   ],
   "metadata": {
    "collapsed": false,
    "pycharm": {
     "name": "#%%\n"
    }
   }
  },
  {
   "cell_type": "code",
   "execution_count": 111,
   "outputs": [
    {
     "data": {
      "text/plain": "<matplotlib.collections.PathCollection at 0x7fb1aa2eda00>"
     },
     "execution_count": 111,
     "metadata": {},
     "output_type": "execute_result"
    },
    {
     "data": {
      "text/plain": "<Figure size 432x288 with 1 Axes>",
      "image/png": "[encoded data removed]"
     },
     "metadata": {
      "needs_background": "light"
     },
     "output_type": "display_data"
    }
   ],
   "source": [
    "model1 = f.Model(data1, number_of_rows = 3)\n",
    "model1.filter(sigma = 2)\n",
    "plt.scatter(model1.df_all['id'],model1.df_all['temperatureAvg'])"
   ],
   "metadata": {
    "collapsed": false,
    "pycharm": {
     "name": "#%%\n"
    }
   }
  },
  {
   "cell_type": "markdown",
   "source": [],
   "metadata": {
    "collapsed": false,
    "pycharm": {
     "name": "#%% md\n"
    }
   }
  }
 ],
 "metadata": {
  "kernelspec": {
   "display_name": "Python 3",
   "language": "python",
   "name": "python3"
  },
  "language_info": {
   "codemirror_mode": {
    "name": "ipython",
    "version": 2
   },
   "file_extension": ".py",
   "mimetype": "text/x-python",
   "name": "python",
   "nbconvert_exporter": "python",
   "pygments_lexer": "ipython2",
   "version": "2.7.6"
  }
 },
 "nbformat": 4,
 "nbformat_minor": 0
}