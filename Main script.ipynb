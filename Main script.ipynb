{
 "cells": [
  {
   "cell_type": "markdown",
   "source": [
    "#### Lib Import"
   ],
   "metadata": {
    "collapsed": false
   }
  },
  {
   "cell_type": "code",
   "execution_count": 3,
   "outputs": [],
   "source": [
    "import pandas as pd\n",
    "import numpy as np\n",
    "from matplotlib import pyplot as plt\n",
    "import urllib\n",
    "import functions as f"
   ],
   "metadata": {
    "collapsed": false,
    "pycharm": {
     "name": "#%%\n"
    }
   }
  },
  {
   "cell_type": "code",
   "execution_count": 26,
   "outputs": [],
   "source": [
    "url = \"https://pastebin.com/raw/j30qh61S\"\n",
    "#resp = urllib.request.urlopen(url_data)\n",
    "data1 = pd.read_csv(r'./dataset/Sochi10-11.csv', header=0, sep =',')\n",
    "\n",
    "\n",
    "data1 = data1.loc[data1['temperatureAvg'] > 1]\n",
    "data1 = data1.loc[data1['id'] >= 1]\n",
    "\n"
   ],
   "metadata": {
    "collapsed": false,
    "pycharm": {
     "name": "#%%\n"
    }
   }
  },
  {
   "cell_type": "code",
   "execution_count": 38,
   "outputs": [
    {
     "data": {
      "text/plain": "       id  distance             ts         x         y         w         h  \\\n131   932  180.6451  1644576689178  0.591667  0.459259  0.064583  0.170370   \n132   932  180.6451  1644576689392  0.550000  0.462963  0.064583  0.148148   \n133   932  180.6451  1644576689562  0.518750  0.451852  0.064583  0.162963   \n134   932  175.0000  1644576689758  0.504167  0.448148  0.066667  0.159259   \n135   932  180.6452  1644576689970  0.497917  0.440741  0.064583  0.159259   \n...   ...       ...            ...       ...       ...       ...       ...   \n1179  970  169.6969  1644576964665  0.568750  0.537037  0.068750  0.144445   \n1180  970  169.6969  1644576964931  0.577083  0.529630  0.068750  0.151852   \n1181  970  175.0000  1644576965032  0.589583  0.548148  0.066667  0.144445   \n1182  970  175.0000  1644576965032  0.589583  0.548148  0.066667  0.144445   \n1183  970  175.0000  1644576965032  0.589583  0.548148  0.066667  0.144445   \n\n              ts_ir      x_ir      y_ir      w_ir      h_ir  temperatureAvg  \\\n131   1644576688996  0.658854  0.534722  0.132812  0.256944        3042.068   \n132   1644576689196  0.653646  0.538194  0.130208  0.253472        2507.286   \n133   1644576689395  0.575521  0.541667  0.130208  0.222222        2461.787   \n134   1644576689595  0.507812  0.524306  0.132812  0.243056        3205.554   \n135   1644576689796  0.484375  0.517361  0.132812  0.243056        3194.449   \n...             ...       ...       ...       ...       ...             ...   \n1179  1644576964601  0.611979  0.652778  0.132812  0.218750        3117.711   \n1180  1644576964801  0.619792  0.642361  0.143229  0.225694        3138.057   \n1181  1644576965002  0.648438  0.659722  0.135417  0.222222        3221.924   \n1182  1644576965201  0.656250  0.666667  0.135417  0.218750        2757.790   \n1183  1644576965402  0.656250  0.666667  0.135417  0.218750        1600.291   \n\n      temperatureSdv  temperatureMin  temperatureMax  temperatureAvgExt  \\\n131       318.343600            2429            3436           1903.270   \n132         6.648615            2496            2513           1597.425   \n133       742.429900            1504            3453           1882.985   \n134       224.050400            2515            3466           1681.108   \n135       233.510100            2481            3461           1686.797   \n...              ...             ...             ...                ...   \n1179      354.263400            1540            3418           1625.974   \n1180      296.366600            2264            3429           1640.540   \n1181      206.192400            2448            3393           3079.993   \n1182      156.940500            2404            3319           2113.617   \n1183      165.361500            1440            1932           1728.718   \n\n      temperatureSdvExt  mappingError  markup  \n131            338.6669      0.002670      -1  \n132            208.3247      0.002670      -1  \n133            734.6662      0.092545      -1  \n134            332.6178      0.092545      -1  \n135            316.1814      0.092545      -1  \n...                 ...           ...     ...  \n1179           283.9500      0.092545      -1  \n1180           306.4276      0.092545      -1  \n1181           343.3955      0.002670      -1  \n1182           391.4043      0.002670      -1  \n1183           193.0791      0.002670      -1  \n\n[1051 rows x 20 columns]",
      "text/html": "<div>\n<style scoped>\n    .dataframe tbody tr th:only-of-type {\n        vertical-align: middle;\n    }\n\n    .dataframe tbody tr th {\n        vertical-align: top;\n    }\n\n    .dataframe thead th {\n        text-align: right;\n    }\n</style>\n<table border=\"1\" class=\"dataframe\">\n  <thead>\n    <tr style=\"text-align: right;\">\n      <th></th>\n      <th>id</th>\n      <th>distance</th>\n      <th>ts</th>\n      <th>x</th>\n      <th>y</th>\n      <th>w</th>\n      <th>h</th>\n      <th>ts_ir</th>\n      <th>x_ir</th>\n      <th>y_ir</th>\n      <th>w_ir</th>\n      <th>h_ir</th>\n      <th>temperatureAvg</th>\n      <th>temperatureSdv</th>\n      <th>temperatureMin</th>\n      <th>temperatureMax</th>\n      <th>temperatureAvgExt</th>\n      <th>temperatureSdvExt</th>\n      <th>mappingError</th>\n      <th>markup</th>\n    </tr>\n  </thead>\n  <tbody>\n    <tr>\n      <th>131</th>\n      <td>932</td>\n      <td>180.6451</td>\n      <td>1644576689178</td>\n      <td>0.591667</td>\n      <td>0.459259</td>\n      <td>0.064583</td>\n      <td>0.170370</td>\n      <td>1644576688996</td>\n      <td>0.658854</td>\n      <td>0.534722</td>\n      <td>0.132812</td>\n      <td>0.256944</td>\n      <td>3042.068</td>\n      <td>318.343600</td>\n      <td>2429</td>\n      <td>3436</td>\n      <td>1903.270</td>\n      <td>338.6669</td>\n      <td>0.002670</td>\n      <td>-1</td>\n    </tr>\n    <tr>\n      <th>132</th>\n      <td>932</td>\n      <td>180.6451</td>\n      <td>1644576689392</td>\n      <td>0.550000</td>\n      <td>0.462963</td>\n      <td>0.064583</td>\n      <td>0.148148</td>\n      <td>1644576689196</td>\n      <td>0.653646</td>\n      <td>0.538194</td>\n      <td>0.130208</td>\n      <td>0.253472</td>\n      <td>2507.286</td>\n      <td>6.648615</td>\n      <td>2496</td>\n      <td>2513</td>\n      <td>1597.425</td>\n      <td>208.3247</td>\n      <td>0.002670</td>\n      <td>-1</td>\n    </tr>\n    <tr>\n      <th>133</th>\n      <td>932</td>\n      <td>180.6451</td>\n      <td>1644576689562</td>\n      <td>0.518750</td>\n      <td>0.451852</td>\n      <td>0.064583</td>\n      <td>0.162963</td>\n      <td>1644576689395</td>\n      <td>0.575521</td>\n      <td>0.541667</td>\n      <td>0.130208</td>\n      <td>0.222222</td>\n      <td>2461.787</td>\n      <td>742.429900</td>\n      <td>1504</td>\n      <td>3453</td>\n      <td>1882.985</td>\n      <td>734.6662</td>\n      <td>0.092545</td>\n      <td>-1</td>\n    </tr>\n    <tr>\n      <th>134</th>\n      <td>932</td>\n      <td>175.0000</td>\n      <td>1644576689758</td>\n      <td>0.504167</td>\n      <td>0.448148</td>\n      <td>0.066667</td>\n      <td>0.159259</td>\n      <td>1644576689595</td>\n      <td>0.507812</td>\n      <td>0.524306</td>\n      <td>0.132812</td>\n      <td>0.243056</td>\n      <td>3205.554</td>\n      <td>224.050400</td>\n      <td>2515</td>\n      <td>3466</td>\n      <td>1681.108</td>\n      <td>332.6178</td>\n      <td>0.092545</td>\n      <td>-1</td>\n    </tr>\n    <tr>\n      <th>135</th>\n      <td>932</td>\n      <td>180.6452</td>\n      <td>1644576689970</td>\n      <td>0.497917</td>\n      <td>0.440741</td>\n      <td>0.064583</td>\n      <td>0.159259</td>\n      <td>1644576689796</td>\n      <td>0.484375</td>\n      <td>0.517361</td>\n      <td>0.132812</td>\n      <td>0.243056</td>\n      <td>3194.449</td>\n      <td>233.510100</td>\n      <td>2481</td>\n      <td>3461</td>\n      <td>1686.797</td>\n      <td>316.1814</td>\n      <td>0.092545</td>\n      <td>-1</td>\n    </tr>\n    <tr>\n      <th>...</th>\n      <td>...</td>\n      <td>...</td>\n      <td>...</td>\n      <td>...</td>\n      <td>...</td>\n      <td>...</td>\n      <td>...</td>\n      <td>...</td>\n      <td>...</td>\n      <td>...</td>\n      <td>...</td>\n      <td>...</td>\n      <td>...</td>\n      <td>...</td>\n      <td>...</td>\n      <td>...</td>\n      <td>...</td>\n      <td>...</td>\n      <td>...</td>\n      <td>...</td>\n    </tr>\n    <tr>\n      <th>1179</th>\n      <td>970</td>\n      <td>169.6969</td>\n      <td>1644576964665</td>\n      <td>0.568750</td>\n      <td>0.537037</td>\n      <td>0.068750</td>\n      <td>0.144445</td>\n      <td>1644576964601</td>\n      <td>0.611979</td>\n      <td>0.652778</td>\n      <td>0.132812</td>\n      <td>0.218750</td>\n      <td>3117.711</td>\n      <td>354.263400</td>\n      <td>1540</td>\n      <td>3418</td>\n      <td>1625.974</td>\n      <td>283.9500</td>\n      <td>0.092545</td>\n      <td>-1</td>\n    </tr>\n    <tr>\n      <th>1180</th>\n      <td>970</td>\n      <td>169.6969</td>\n      <td>1644576964931</td>\n      <td>0.577083</td>\n      <td>0.529630</td>\n      <td>0.068750</td>\n      <td>0.151852</td>\n      <td>1644576964801</td>\n      <td>0.619792</td>\n      <td>0.642361</td>\n      <td>0.143229</td>\n      <td>0.225694</td>\n      <td>3138.057</td>\n      <td>296.366600</td>\n      <td>2264</td>\n      <td>3429</td>\n      <td>1640.540</td>\n      <td>306.4276</td>\n      <td>0.092545</td>\n      <td>-1</td>\n    </tr>\n    <tr>\n      <th>1181</th>\n      <td>970</td>\n      <td>175.0000</td>\n      <td>1644576965032</td>\n      <td>0.589583</td>\n      <td>0.548148</td>\n      <td>0.066667</td>\n      <td>0.144445</td>\n      <td>1644576965002</td>\n      <td>0.648438</td>\n      <td>0.659722</td>\n      <td>0.135417</td>\n      <td>0.222222</td>\n      <td>3221.924</td>\n      <td>206.192400</td>\n      <td>2448</td>\n      <td>3393</td>\n      <td>3079.993</td>\n      <td>343.3955</td>\n      <td>0.002670</td>\n      <td>-1</td>\n    </tr>\n    <tr>\n      <th>1182</th>\n      <td>970</td>\n      <td>175.0000</td>\n      <td>1644576965032</td>\n      <td>0.589583</td>\n      <td>0.548148</td>\n      <td>0.066667</td>\n      <td>0.144445</td>\n      <td>1644576965201</td>\n      <td>0.656250</td>\n      <td>0.666667</td>\n      <td>0.135417</td>\n      <td>0.218750</td>\n      <td>2757.790</td>\n      <td>156.940500</td>\n      <td>2404</td>\n      <td>3319</td>\n      <td>2113.617</td>\n      <td>391.4043</td>\n      <td>0.002670</td>\n      <td>-1</td>\n    </tr>\n    <tr>\n      <th>1183</th>\n      <td>970</td>\n      <td>175.0000</td>\n      <td>1644576965032</td>\n      <td>0.589583</td>\n      <td>0.548148</td>\n      <td>0.066667</td>\n      <td>0.144445</td>\n      <td>1644576965402</td>\n      <td>0.656250</td>\n      <td>0.666667</td>\n      <td>0.135417</td>\n      <td>0.218750</td>\n      <td>1600.291</td>\n      <td>165.361500</td>\n      <td>1440</td>\n      <td>1932</td>\n      <td>1728.718</td>\n      <td>193.0791</td>\n      <td>0.002670</td>\n      <td>-1</td>\n    </tr>\n  </tbody>\n</table>\n<p>1051 rows × 20 columns</p>\n</div>"
     },
     "execution_count": 38,
     "metadata": {},
     "output_type": "execute_result"
    }
   ],
   "source": [
    "unique = data1['id'].unique()\n",
    "indexes_good = []\n",
    "for id in unique:\n",
    "    if data1.loc[data1['id'] == id]['temperatureAvg'].mean() > 2500:\n",
    "        indexes_good += [id]\n",
    "query = data1['id'].apply(lambda x: x in indexes_good)\n",
    "data1 = data1.loc[query]\n",
    "data1"
   ],
   "metadata": {
    "collapsed": false,
    "pycharm": {
     "name": "#%%\n"
    }
   }
  },
  {
   "cell_type": "code",
   "execution_count": 39,
   "outputs": [
    {
     "data": {
      "text/plain": "[3171.2381562499995,\n 3162.1752816901417,\n 3113.186254901962,\n 3160.834,\n 3191.7817272727266,\n 3215.0570526315787,\n 3225.0301904761895,\n 3174.928301075269,\n 3178.2106500000004,\n 3240.721368421053,\n 3059.354139240506,\n 3078.8293636363637,\n 2983.0818,\n 3126.4483333333337,\n 3103.335,\n 3261.1041800000003,\n 3316.5921764705877,\n 3249.594176470588,\n 3188.9183333333335,\n 2825.176323529411,\n 3198.7799285714286,\n 3205.3712727272728,\n 3132.7926666666667,\n 3157.6553529411767,\n 3124.0663636363633,\n 3095.152000000001,\n 2864.0106666666666,\n 2854.680714285714,\n 2826.9501,\n 3116.017352941177,\n 2779.51625]"
     },
     "execution_count": 39,
     "metadata": {},
     "output_type": "execute_result"
    }
   ],
   "source": [
    "x = []\n",
    "for id in data1['id'].unique():\n",
    "    x += [data1.loc[data1['id'] == id]['temperatureAvg'].mean()]\n",
    "x"
   ],
   "metadata": {
    "collapsed": false,
    "pycharm": {
     "name": "#%%\n"
    }
   }
  },
  {
   "cell_type": "code",
   "execution_count": 40,
   "outputs": [
    {
     "data": {
      "text/plain": "<Figure size 432x288 with 1 Axes>",
      "image/png": "[encoded data removed]"
     },
     "metadata": {
      "needs_background": "light"
     },
     "output_type": "display_data"
    }
   ],
   "source": [
    "fig = plt.scatter(data1['id'].unique(),x)"
   ],
   "metadata": {
    "collapsed": false,
    "pycharm": {
     "name": "#%%\n"
    }
   }
  },
  {
   "cell_type": "code",
   "execution_count": 9,
   "outputs": [
    {
     "data": {
      "text/plain": "<matplotlib.collections.PathCollection at 0x7f8948cd8640>"
     },
     "execution_count": 9,
     "metadata": {},
     "output_type": "execute_result"
    },
    {
     "data": {
      "text/plain": "<Figure size 432x288 with 1 Axes>",
      "image/png": "[encoded data removed]"
     },
     "metadata": {
      "needs_background": "light"
     },
     "output_type": "display_data"
    }
   ],
   "source": [
    "model1 = f.Model(data1, number_of_rows = 3)\n",
    "model1.filter(sigma = 2)\n",
    "plt.scatter(model1.df_all['id'],model1.df_all['temperatureAvg'])"
   ],
   "metadata": {
    "collapsed": false,
    "pycharm": {
     "name": "#%%\n"
    }
   }
  },
  {
   "cell_type": "code",
   "execution_count": null,
   "outputs": [],
   "source": [
    "model1.df_all.describe()"
   ],
   "metadata": {
    "collapsed": false,
    "pycharm": {
     "name": "#%%\n"
    }
   }
  },
  {
   "cell_type": "code",
   "execution_count": null,
   "outputs": [],
   "source": [],
   "metadata": {
    "collapsed": false,
    "pycharm": {
     "name": "#%%\n"
    }
   }
  },
  {
   "cell_type": "code",
   "execution_count": null,
   "outputs": [],
   "source": [],
   "metadata": {
    "collapsed": false,
    "pycharm": {
     "name": "#%%\n"
    }
   }
  },
  {
   "cell_type": "code",
   "execution_count": null,
   "outputs": [],
   "source": [
    "data1"
   ],
   "metadata": {
    "collapsed": false,
    "pycharm": {
     "name": "#%%\n"
    }
   }
  },
  {
   "cell_type": "markdown",
   "source": [],
   "metadata": {
    "collapsed": false,
    "pycharm": {
     "name": "#%% md\n"
    }
   }
  }
 ],
 "metadata": {
  "kernelspec": {
   "display_name": "Python 3",
   "language": "python",
   "name": "python3"
  },
  "language_info": {
   "codemirror_mode": {
    "name": "ipython",
    "version": 2
   },
   "file_extension": ".py",
   "mimetype": "text/x-python",
   "name": "python",
   "nbconvert_exporter": "python",
   "pygments_lexer": "ipython2",
   "version": "2.7.6"
  }
 },
 "nbformat": 4,
 "nbformat_minor": 0
}