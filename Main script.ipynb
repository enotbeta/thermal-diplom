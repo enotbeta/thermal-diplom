{
 "cells": [
  {
   "cell_type": "markdown",
   "source": [
    "#### Lib Import"
   ],
   "metadata": {
    "collapsed": false
   }
  },
  {
   "cell_type": "code",
   "execution_count": null,
   "outputs": [],
   "source": [
    "import pandas as pd\n",
    "import numpy as np\n",
    "from matplotlib import pyplot as plt\n",
    "import urllib\n",
    "import functions as f"
   ],
   "metadata": {
    "collapsed": false,
    "pycharm": {
     "name": "#%%\n",
     "is_executing": true
    }
   }
  },
  {
   "cell_type": "markdown",
   "source": [
    "#### Data Import"
   ],
   "metadata": {
    "collapsed": false
   }
  },
  {
   "cell_type": "code",
   "execution_count": null,
   "outputs": [],
   "source": [
    "url = \"https://pastebin.com/raw/j30qh61S\"\n",
    "#resp = urllib.request.urlopen(url_data)\n",
    "data = pd.read_csv(r'C:\\Users\\Serg\\Desktop\\Diplom\\Dataset\\csv\\ПК2-11-15.02.2022.csv', header=0, sep =',')\n",
    "data3 = pd.read_csv(r'C:\\Users\\Serg\\Desktop\\Diplom\\Dataset\\csv\\иртис_коридор.csv', header=0, sep =',')\n",
    "data1 = pd.read_csv(r'C:\\Users\\Serg\\Desktop\\Diplom\\Dataset\\csv\\проходная_сф.csv', header=0, sep =',')\n"
   ],
   "metadata": {
    "collapsed": false,
    "pycharm": {
     "name": "#%%\n",
     "is_executing": true
    }
   }
  },
  {
   "cell_type": "code",
   "execution_count": null,
   "outputs": [],
   "source": [
    "model = f.Model(data1, number_of_rows = 30)\n",
    "model.filter(sigma = 1)\n",
    "model.df_stat[['id','temperatureAvg']].plot(x = 'id', y = 'temperatureAvg', kind = 'scatter')\n",
    "model.df_all[['id','temperatureAvg']].plot(x = 'id', y = 'temperatureAvg', kind = 'scatter')"
   ],
   "metadata": {
    "collapsed": false,
    "pycharm": {
     "name": "#%%\n",
     "is_executing": true
    }
   }
  }
 ],
 "metadata": {
  "kernelspec": {
   "display_name": "Python 3",
   "language": "python",
   "name": "python3"
  },
  "language_info": {
   "codemirror_mode": {
    "name": "ipython",
    "version": 2
   },
   "file_extension": ".py",
   "mimetype": "text/x-python",
   "name": "python",
   "nbconvert_exporter": "python",
   "pygments_lexer": "ipython2",
   "version": "2.7.6"
  }
 },
 "nbformat": 4,
 "nbformat_minor": 0
}